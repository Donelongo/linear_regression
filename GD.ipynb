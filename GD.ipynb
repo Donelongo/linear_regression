{
 "cells": [
  {
   "cell_type": "code",
   "execution_count": 14,
   "metadata": {},
   "outputs": [],
   "source": [
    "\"\"\"\n",
    "This code will do linear regression on generated data\n",
    "\"\"\"\n",
    "\n",
    "# import libraries\n",
    "import numpy as np\n",
    "import pandas as pd\n",
    "import matplotlib.pyplot as plt\n",
    "import os\n",
    "\n",
    "# generate data\n",
    "np.random.seed(24)\n",
    "x = np.random.rand(100)*10\n",
    "x = np.round(x, 2)\n",
    "rand_scaler = 1.5\n",
    "y = 1 + ( 0.6 * x) + (np.random.rand(100) * rand_scaler)\n",
    "df = pd.DataFrame({'X': x, 'Y': y})"
   ]
  },
  {
   "cell_type": "code",
   "execution_count": null,
   "metadata": {},
   "outputs": [
    {
     "name": "stdout",
     "output_type": "stream",
     "text": [
      "Sets removed: True\n"
     ]
    }
   ],
   "source": [
    "import os\n",
    "import pandas as pd\n",
    "\n",
    "# Directory containing the CSV files\n",
    "data_folder = './data'\n",
    "\n",
    "# List to hold DataFrames\n",
    "dataframes = []\n",
    "\n",
    "# Iterate over all files in the directory\n",
    "for filename in os.listdir(data_folder):\n",
    "    if filename.endswith('.csv'):\n",
    "        file_path = os.path.join(data_folder, filename)\n",
    "        df = pd.read_csv(file_path)\n",
    "        dataframes.append(df)\n",
    "\n",
    "def find_outlying_years(dataframes):\n",
    "    \"\"\"\n",
    "    This function finds the outlying years that do not match across all dataframes.\n",
    "    \"\"\"\n",
    "\n",
    "    df_sets = [set(dfi[\"Year\"].unique()) for dfi in dataframes]\n",
    "\n",
    "    years_to_remove = set()\n",
    "    for i, current_set in enumerate(df_sets):\n",
    "        for refSet in df_sets[i+1:]:\n",
    "            years_to_remove.update(current_set.union(refSet) - current_set.intersection(refSet))\n",
    "    return years_to_remove\n",
    "\n",
    "# Find outlying years\n",
    "years_to_remove = find_outlying_years(dataframes)\n",
    "\n",
    "# next we remove the years from each DataFrame\n",
    "for df in dataframes:\n",
    "    df.drop(df[df[\"Year\"].isin(years_to_remove)].index, inplace=True)\n",
    "\n",
    "# check the resulting data frames for the years that dont match accross all data frames\n",
    "setsRemoved = find_outlying_years(dataframes) == set() # should return True\n",
    "print(f\"Sets removed: {setsRemoved}\")"
   ]
  },
  {
   "cell_type": "code",
   "execution_count": 15,
   "metadata": {},
   "outputs": [
    {
     "data": {
      "image/png": "[encoded data removed]",
      "text/plain": [
       "<Figure size 432x288 with 1 Axes>"
      ]
     },
     "metadata": {
      "needs_background": "light"
     },
     "output_type": "display_data"
    }
   ],
   "source": [
    "# This section is for plotting and visualizing the data\n",
    "df.plot(kind='scatter', x='X', y='Y')\n",
    "plt.title('Generated Data')\n",
    "plt.axis('equal')\n",
    "plt.show()"
   ]
  },
  {
   "cell_type": "markdown",
   "metadata": {},
   "source": [
    "# Linear regression"
   ]
  },
  {
   "cell_type": "code",
   "execution_count": null,
   "metadata": {},
   "outputs": [],
   "source": [
    "# this section will deal with the functionality of the linear regression\n",
    "\n",
    "# Line function\n",
    "def line(a, x, b):\n",
    "    return (a * x) + b\n",
    "\n",
    "# Cost function\n",
    "def cost_function(a, x, b, y):\n",
    "    m = len(x) # number of data points\n",
    "    total_error = 0 # initialize total error\n",
    "    for i in range(m):\n",
    "        Yc = line(a, x[i], b) # Calculated y estimate\n",
    "        total_error  += (y[i]-Yc)**2\n",
    "    return total_error/(2*m)\n",
    "\n",
    "def gradient_descent(\n",
    "    a = 0,\n",
    "    b = 0,\n",
    "    data=pd.DataFrame([]),\n",
    "    alpha = 1,\n",
    "    num_iterations = 1000\n",
    "):\n",
    "    \"\"\"\n",
    "    This function will perform gradient descent to find the best fit line\n",
    "    \"\"\"\n",
    "\n",
    "    # init the x and y values\n",
    "    x = data['X']\n",
    "    y = data['Y']\n",
    "\n",
    "    # get the number of data points\n",
    "    m = len(x)\n",
    "\n",
    "    # perform gradient descent\n",
    "    # -> This is the important bit\n",
    "    for i in range(num_iterations):\n",
    "        y_da = 0 # initialize slope gradient\n",
    "        y_db = 0 # initialize constant gradient\n",
    "\n",
    "        for j in range(m):\n",
    "            Yc = line(a, x[j], b)\n",
    "            y_da += -(1/m)*(y[j]-Yc)*x[j]\n",
    "            y_db += -(1/m)*(y[j]-Yc)\n",
    "\n",
    "        a -= alpha*y_da\n",
    "        b -= alpha*y_db\n",
    "        if i % 50 == 0:\n",
    "            print(f'Iteration: {i} Cost: {cost_function(a, x, b, y)}')\n",
    "\n",
    "    return (a, b)"
   ]
  },
  {
   "cell_type": "markdown",
   "metadata": {},
   "source": [
    "# Testing and implementation phase"
   ]
  },
  {
   "cell_type": "code",
   "execution_count": null,
   "metadata": {},
   "outputs": [
    {
     "name": "stdout",
     "output_type": "stream",
     "text": [
      "Iteration: 0 Cost: 122.00669826161091\n",
      "Iteration: 50 Cost: 9.377761950462803e+48\n",
      "Iteration: 100 Cost: 7.229491021946517e+95\n",
      "Iteration: 150 Cost: 5.573349026398146e+142\n",
      "Iteration: 200 Cost: 4.296598374042877e+189\n",
      "Iteration: 250 Cost: 3.312327561110684e+236\n",
      "Iteration: 300 Cost: 2.5535348936441952e+283\n",
      "Iteration: 350 Cost: inf\n",
      "Iteration: 400 Cost: inf\n",
      "Iteration: 450 Cost: inf\n"
     ]
    },
    {
     "name": "stderr",
     "output_type": "stream",
     "text": [
      "/tmp/ipykernel_7606/2130352137.py:13: RuntimeWarning: overflow encountered in scalar power\n",
      "  total_error  += (y[i]-Yc)**2\n"
     ]
    },
    {
     "name": "stdout",
     "output_type": "stream",
     "text": [
      "Iteration: 500 Cost: inf\n",
      "Iteration: 550 Cost: inf\n",
      "Iteration: 600 Cost: inf\n",
      "Iteration: 650 Cost: inf\n",
      "Iteration: 700 Cost: nan\n"
     ]
    },
    {
     "name": "stderr",
     "output_type": "stream",
     "text": [
      "/tmp/ipykernel_7606/2130352137.py:42: RuntimeWarning: overflow encountered in scalar add\n",
      "  y_da += -(1/m)*(y[j]-Yc)*x[j]\n",
      "/tmp/ipykernel_7606/2130352137.py:45: RuntimeWarning: invalid value encountered in scalar subtract\n",
      "  a -= alpha*y_da\n"
     ]
    },
    {
     "name": "stdout",
     "output_type": "stream",
     "text": [
      "Iteration: 750 Cost: nan\n",
      "Iteration: 800 Cost: nan\n",
      "Iteration: 850 Cost: nan\n",
      "Iteration: 900 Cost: nan\n",
      "Iteration: 950 Cost: nan\n",
      "\n",
      "Y = nan * X + nan\n"
     ]
    },
    {
     "data": {
      "image/png": "[encoded data removed]",
      "text/plain": [
       "<Figure size 640x480 with 1 Axes>"
      ]
     },
     "metadata": {},
     "output_type": "display_data"
    }
   ],
   "source": [
    "# run the gradient descent and write out the results as a line equation\n",
    "a, b = gradient_descent(data=df, alpha=0.01, num_iterations=1000)\n",
    "print(f'\\nY = {a} * X + {b}')\n",
    "\n",
    "# plot the line with that data to see how well it fits\n",
    "df.plot(kind='scatter', x='X', y='Y')\n",
    "plt.plot(df['X'], line(a, df['X'], b), color='red')\n",
    "plt.axis('equal')\n",
    "plt.title('Generated Data')\n",
    "plt.show()"
   ]
  }
 ],
 "metadata": {
  "kernelspec": {
   "display_name": "base",
   "language": "python",
   "name": "python3"
  },
  "language_info": {
   "codemirror_mode": {
    "name": "ipython",
    "version": 3
   },
   "file_extension": ".py",
   "mimetype": "text/x-python",
   "name": "python",
   "nbconvert_exporter": "python",
   "pygments_lexer": "ipython3",
   "version": "3.9.7"
  }
 },
 "nbformat": 4,
 "nbformat_minor": 2
}
